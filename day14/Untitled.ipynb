{
 "cells": [
  {
   "cell_type": "code",
   "execution_count": 5,
   "metadata": {},
   "outputs": [
    {
     "name": "stdout",
     "output_type": "stream",
     "text": [
      "True\n",
      "False\n"
     ]
    }
   ],
   "source": [
    "def isAnagram(s1,s2):\n",
    "    hash=[0]*256\n",
    "    for i in s1:\n",
    "        hash[ord(i)] = hash[ord(i)]+1\n",
    "    for j in s2:\n",
    "        hash[ord(j)] = hash[ord(j)]-1\n",
    "        if hash[ord(j)] < 0:\n",
    "            return False\n",
    "    return True\n",
    "print (isAnagram(\"ABC\",\"BCA\"))\n",
    "print (isAnagram(\"ABC\",\"CDD\"))"
   ]
  },
  {
   "cell_type": "code",
   "execution_count": 8,
   "metadata": {},
   "outputs": [
    {
     "name": "stdout",
     "output_type": "stream",
     "text": [
      "True\n",
      "False\n"
     ]
    }
   ],
   "source": [
    "def isAnagram2(s1,s2):\n",
    "    a =''.join(sorted(s1.lower())).strip()\n",
    "    b =''.join(sorted(s2.lower())).strip()\n",
    "    if a == b :\n",
    "        return True\n",
    "    else:\n",
    "        return False\n",
    "    \n",
    "print (isAnagram2(\"ABC\",\"BCA\"))\n",
    "print (isAnagram2(\"ABC\",\"CDD\"))"
   ]
  },
  {
   "cell_type": "code",
   "execution_count": 17,
   "metadata": {},
   "outputs": [
    {
     "name": "stdout",
     "output_type": "stream",
     "text": [
      "55\n"
     ]
    }
   ],
   "source": [
    "def Fibonacci(n):\n",
    "    a = 1\n",
    "    b = 1\n",
    "    c = 0\n",
    "    d = 3\n",
    "    if n < 3:\n",
    "        return 1\n",
    "    for i in range(3,n+1):\n",
    "        c = a + b\n",
    "        a = b\n",
    "        b = c\n",
    "    return c\n",
    "\n",
    "print (Fibonacci(10))"
   ]
  },
  {
   "cell_type": "code",
   "execution_count": null,
   "metadata": {
    "collapsed": true
   },
   "outputs": [],
   "source": [
    "def Fibonacci2(n)\n",
    "    result = [0,1]\n",
    "    \n",
    "    for i in range(2,n+1):\n",
    "        result.append(result[i-1+result[i-2]])\n",
    "    return result[-1]\n",
    "\n",
    "print (Fibonacci2(10))"
   ]
  }
 ],
 "metadata": {
  "kernelspec": {
   "display_name": "Python 3",
   "language": "python",
   "name": "python3"
  },
  "language_info": {
   "codemirror_mode": {
    "name": "ipython",
    "version": 3
   },
   "file_extension": ".py",
   "mimetype": "text/x-python",
   "name": "python",
   "nbconvert_exporter": "python",
   "pygments_lexer": "ipython3",
   "version": "3.6.3"
  }
 },
 "nbformat": 4,
 "nbformat_minor": 2
}
