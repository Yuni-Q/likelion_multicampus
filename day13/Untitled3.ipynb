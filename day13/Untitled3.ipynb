{
 "cells": [
  {
   "cell_type": "code",
   "execution_count": 4,
   "metadata": {},
   "outputs": [
    {
     "name": "stdout",
     "output_type": "stream",
     "text": [
      "aple\n"
     ]
    }
   ],
   "source": [
    "# 1. 'apple' 문자열을 'aple'로 바꾸는 코드를 작성하시오.\n",
    "ratter = 'apple'\n",
    "char = ratter.replace(\"p\",\"\",1)\n",
    "\n",
    "print (char)"
   ]
  },
  {
   "cell_type": "code",
   "execution_count": 5,
   "metadata": {},
   "outputs": [
    {
     "name": "stdout",
     "output_type": "stream",
     "text": [
      "fun\n"
     ]
    }
   ],
   "source": [
    "# 2. 'python is fun'에서 'fun'이라는 문자을 추출 하시오.\n",
    "ratter = 'python is fun'\n",
    "char = ratter.split(\" \")[2]\n",
    "\n",
    "print (char)"
   ]
  },
  {
   "cell_type": "code",
   "execution_count": 12,
   "metadata": {},
   "outputs": [
    {
     "name": "stdout",
     "output_type": "stream",
     "text": [
      "6\n"
     ]
    }
   ],
   "source": [
    "# 3. [1,2,3,[4,[5,6,7]],8,9]에서 6을 추출 하시오.\n",
    "arr = [1,2,3,[4,[5,6,7]],8,9]\n",
    "num = arr[3][1][1]\n",
    "\n",
    "print (num)"
   ]
  },
  {
   "cell_type": "code",
   "execution_count": 17,
   "metadata": {},
   "outputs": [
    {
     "name": "stdout",
     "output_type": "stream",
     "text": [
      "티 몇장?2\n",
      "스웨터 몇장?2\n",
      "76000.0\n"
     ]
    }
   ],
   "source": [
    "# 4. 티셔츠가 10000원, 스웨터가 30000원 입니다\n",
    "# 10만원 이하 구매시 5% 할인, 10만원 초과 구매시 15% 할인\n",
    "# 구매 수량 입력 받고, 총액 출력하시오.\n",
    "def ts(num1,num2):\n",
    "    t = num1 * 10000\n",
    "    s = num2 * 30000\n",
    "    return t+s\n",
    "t = int(input(\"티 몇장?\"))\n",
    "s = int(input(\"스웨터 몇장?\"))\n",
    "\n",
    "value = ts(t,s)\n",
    "\n",
    "if value > 100000:\n",
    "    value = value * 0.75\n",
    "else:\n",
    "    value = value * 0.95\n",
    "    \n",
    "print (value)"
   ]
  },
  {
   "cell_type": "code",
   "execution_count": 19,
   "metadata": {},
   "outputs": [
    {
     "name": "stdout",
     "output_type": "stream",
     "text": [
      "수를 입력하세요.3\n",
      "홀수입니다.\n"
     ]
    }
   ],
   "source": [
    "# 5. 입력받은 수가 홀수 이면 \"홀수 입니다.\" 짝수이면\n",
    "# \"짝수입니다\"를 출력하시오.(소수가 입력되면 MyError 반환)\n",
    "# try except 사용\n",
    "class MyError(Exception):\n",
    "   def __str__(self):\n",
    "      return \"소수는 지원 안함\"\n",
    "\n",
    "try:\n",
    "   n = int(input(\"수를 입력하세요.\"))\n",
    "   if n % 2 == 0 :\n",
    "      print (\"짝수입니다.\")\n",
    "   else:\n",
    "      print (\"홀수입니다.\")\n",
    "except MyError as e:\n",
    "   print (e)\n"
   ]
  },
  {
   "cell_type": "code",
   "execution_count": 20,
   "metadata": {},
   "outputs": [
    {
     "name": "stdout",
     "output_type": "stream",
     "text": [
      "키 입력 해181\n",
      "몸무게 입력 해67\n",
      "저체중\n"
     ]
    }
   ],
   "source": [
    "# 6. 키, 몸무게를 입력 받아 BMI를 계산하시오.\n",
    "# BMI = (몸무게)/(키*키)\n",
    "# 20 미만이면 '저체중', 20~24면 '정상', 24~30이면 '약비만',\n",
    "# 30 이상이면 '비만'을 출력하시오.\n",
    "h = int(input(\"키 입력 해\"))\n",
    "w = int(input(\"몸무게 입력 해\"))\n",
    "bmi = w/(pow(h,2))\n",
    "if bmi < 20:\n",
    "   print (\"저체중\")\n",
    "elif bmi < 24:\n",
    "   print (\"정상\")\n",
    "elif bmi < 30 :\n",
    "   print (\"약비만\")\n",
    "else:\n",
    "   print (\"비만\")"
   ]
  },
  {
   "cell_type": "code",
   "execution_count": 21,
   "metadata": {},
   "outputs": [
    {
     "name": "stdout",
     "output_type": "stream",
     "text": [
      "수 5개 입력해[,로 구분해]1,2,3,4,5\n"
     ]
    },
    {
     "data": {
      "text/plain": [
       "<function TextIOWrapper.close>"
      ]
     },
     "execution_count": 21,
     "metadata": {},
     "output_type": "execute_result"
    }
   ],
   "source": [
    "# 7. 5개의 정수를 입력 받아 가장 큰 값을 파일에 입력하시오.\n",
    "k = input(\"수 5개 입력해[,로 구분해]\")\n",
    "kl = k.split(\",\")\n",
    "max = 0\n",
    "for i in kl:\n",
    "   i = int(i)\n",
    "   if i>max:\n",
    "      max = i\n",
    "f = open(\"a.txt\",\"w\")\n",
    "f.write(str(max)) # 숫자는 write가 안 됨\n",
    "f.close()"
   ]
  },
  {
   "cell_type": "code",
   "execution_count": 39,
   "metadata": {},
   "outputs": [
    {
     "name": "stdout",
     "output_type": "stream",
     "text": [
      "dcba\n",
      "dcba\n"
     ]
    }
   ],
   "source": [
    "# 1. Reverse 함수 만들기\n",
    "# 'abcd' -> 'dcba' 출력\n",
    "# reverse 함수 쓰지 않고.\n",
    "# pop()\n",
    "def myReverse(str):\n",
    "    stack = []\n",
    "    for i in str:\n",
    "        stack.append(i)\n",
    "    result = \"\"\n",
    "    while len(stack) > 0 :\n",
    "        result += stack.pop()\n",
    "    return result\n",
    "def myReverse_2(str):\n",
    "    return str[::-1] # 스트링 꺼꾸로 출력\n",
    "print (myReverse('abcd'))\n",
    "print (myReverse_2('abcd'))"
   ]
  },
  {
   "cell_type": "code",
   "execution_count": 40,
   "metadata": {},
   "outputs": [
    {
     "name": "stdout",
     "output_type": "stream",
     "text": [
      "True\n",
      "False\n"
     ]
    }
   ],
   "source": [
    "# 2. 문자열에 포함된 문자가 유일한지 검사하는 프로그램\n",
    "# ABCD - pass / ABAD - fail\n",
    "def isUniq(str):\n",
    "    if len(str)>256:\n",
    "        return False\n",
    "    hash=[False]*256\n",
    "    for i in str:\n",
    "        if hash[ord(i)] is True:\n",
    "            return False\n",
    "        else:\n",
    "            hash[ord(i)] = True\n",
    "    return True\n",
    "\n",
    "print (isUniq(\"ABCD\"))\n",
    "print (isUniq(\"ABAD\"))"
   ]
  },
  {
   "cell_type": "code",
   "execution_count": 47,
   "metadata": {},
   "outputs": [
    {
     "name": "stdout",
     "output_type": "stream",
     "text": [
      "my%20John%20Smith\n"
     ]
    }
   ],
   "source": [
    "# 공백을 %20으로 바꾸기\n",
    "def change(str):\n",
    "    result = str.strip().replace(\" \",\"%20\")\n",
    "    return result\n",
    "    \n",
    "print (change(\"my John Smith\"))"
   ]
  },
  {
   "cell_type": "code",
   "execution_count": 74,
   "metadata": {},
   "outputs": [
    {
     "name": "stdout",
     "output_type": "stream",
     "text": [
      "A2B2D7A1B1\n",
      "ABCDEF\n"
     ]
    }
   ],
   "source": [
    "# 같은 문자 반복 횟수를 반복하여 문자열을 압축\n",
    "# ex. AABBDDD\n",
    "# A2B2D3\n",
    "def count(arr):\n",
    "    hash=[0]*256\n",
    "    result = arr[0]\n",
    "    val = ord(arr[0])\n",
    "    for i in arr:\n",
    "        if ord(i) == val:\n",
    "            hash[ord(i)] = hash[ord(i)]+1\n",
    "        else:\n",
    "            result = result + str(hash[val])\n",
    "            hash[val] = 0\n",
    "            result = result + i\n",
    "            val = ord(i)\n",
    "            hash[ord(i)] = hash[ord(i)]+1\n",
    "    result = result + str(hash[val])\n",
    "    if len(result) < len(arr):\n",
    "        return result\n",
    "    else:\n",
    "        return arr\n",
    "\n",
    "print (count(\"AABBDDDDDDDAB\"))\n",
    "print (count(\"ABCDEF\"))"
   ]
  },
  {
   "cell_type": "code",
   "execution_count": null,
   "metadata": {
    "collapsed": true
   },
   "outputs": [],
   "source": []
  },
  {
   "cell_type": "code",
   "execution_count": null,
   "metadata": {
    "collapsed": true
   },
   "outputs": [],
   "source": []
  }
 ],
 "metadata": {
  "kernelspec": {
   "display_name": "Python 3",
   "language": "python",
   "name": "python3"
  },
  "language_info": {
   "codemirror_mode": {
    "name": "ipython",
    "version": 3
   },
   "file_extension": ".py",
   "mimetype": "text/x-python",
   "name": "python",
   "nbconvert_exporter": "python",
   "pygments_lexer": "ipython3",
   "version": "3.6.3"
  }
 },
 "nbformat": 4,
 "nbformat_minor": 2
}
