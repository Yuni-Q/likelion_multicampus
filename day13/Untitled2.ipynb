{
 "cells": [
  {
   "cell_type": "code",
   "execution_count": 8,
   "metadata": {},
   "outputs": [
    {
     "name": "stdout",
     "output_type": "stream",
     "text": [
      "7\n",
      "더할수 없음\n",
      "None\n"
     ]
    }
   ],
   "source": [
    "# 모듈 (gem 만들어서 import)\n",
    "# 같은 경로에 mod1.py를 만든다\n",
    "import mod1\n",
    "print (mod1.sum(3,4))\n",
    "print (mod1.safe_sum(\"1\",2))"
   ]
  },
  {
   "cell_type": "code",
   "execution_count": 9,
   "metadata": {},
   "outputs": [
    {
     "name": "stdout",
     "output_type": "stream",
     "text": [
      "3.141592\n",
      "28.274328\n",
      "7.5415920000000005\n"
     ]
    }
   ],
   "source": [
    "import mod2\n",
    "print (mod2.PI)\n",
    "a = mod2.Math()\n",
    "print (a.solv(3))\n",
    "print (mod2.sum(mod2.PI,4.4))"
   ]
  },
  {
   "cell_type": "code",
   "execution_count": 17,
   "metadata": {},
   "outputs": [
    {
     "name": "stdout",
     "output_type": "stream",
     "text": [
      "2 + 2 = 4\n",
      "None\n"
     ]
    }
   ],
   "source": [
    "import calModule\n",
    "cal = calModule.Calculration()\n",
    "print (cal.add(2,2))"
   ]
  },
  {
   "cell_type": "code",
   "execution_count": null,
   "metadata": {
    "collapsed": true
   },
   "outputs": [],
   "source": []
  }
 ],
 "metadata": {
  "kernelspec": {
   "display_name": "Python 3",
   "language": "python",
   "name": "python3"
  },
  "language_info": {
   "codemirror_mode": {
    "name": "ipython",
    "version": 3
   },
   "file_extension": ".py",
   "mimetype": "text/x-python",
   "name": "python",
   "nbconvert_exporter": "python",
   "pygments_lexer": "ipython3",
   "version": "3.6.3"
  }
 },
 "nbformat": 4,
 "nbformat_minor": 2
}
