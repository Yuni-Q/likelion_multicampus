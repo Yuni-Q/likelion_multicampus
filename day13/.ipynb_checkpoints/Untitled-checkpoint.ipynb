{
 "cells": [
  {
   "cell_type": "code",
   "execution_count": 5,
   "metadata": {},
   "outputs": [
    {
     "name": "stdout",
     "output_type": "stream",
     "text": [
      "3\n",
      "hi\n",
      "hihihihihihihihihi\n",
      "100\n"
     ]
    }
   ],
   "source": [
    "# 1. 입력 출력 o\n",
    "def sum(a, b):\n",
    "    result = a+b\n",
    "    return result\n",
    "# 2. 입력 출력 x\n",
    "def say():\n",
    "    print (\"hi\")\n",
    "# 3. 입력 o 출력 x\n",
    "def say_a(a):\n",
    "    print (a)\n",
    "# 3. 입력 x 출력 o\n",
    "def say_b():\n",
    "    return 100\n",
    "\n",
    "print (sum(1,2))\n",
    "say()\n",
    "say_a(\"hihihihihihihihihi\")\n",
    "c = say_b()\n",
    "print (c)"
   ]
  },
  {
   "cell_type": "code",
   "execution_count": 11,
   "metadata": {},
   "outputs": [
    {
     "name": "stdout",
     "output_type": "stream",
     "text": [
      "2.0\n"
     ]
    }
   ],
   "source": [
    "def say_list(list):\n",
    "    sum = 0\n",
    "    for num in list:\n",
    "        sum = num + sum\n",
    "    avg = sum / len(list)\n",
    "    return avg #리스트 내의 element들의 평균을 반환\n",
    "list = [1,2,3]\n",
    "print (say_list(list))"
   ]
  },
  {
   "cell_type": "code",
   "execution_count": 20,
   "metadata": {},
   "outputs": [
    {
     "name": "stdout",
     "output_type": "stream",
     "text": [
      "15\n"
     ]
    }
   ],
   "source": [
    "def sum (*args): # 들어오는 만큼 받아서 튜플로 만든다 \n",
    "    sum = 0\n",
    "    for i in args:\n",
    "        sum += i    \n",
    "    return sum\n",
    "print (sum(1,2,3,4,5))"
   ]
  },
  {
   "cell_type": "code",
   "execution_count": 40,
   "metadata": {},
   "outputs": [
    {
     "name": "stdout",
     "output_type": "stream",
     "text": [
      "25\n",
      "120\n"
     ]
    }
   ],
   "source": [
    "def sum_mul(choice, *args):\n",
    "    result = 1\n",
    "    if choice == 'sum':\n",
    "        for i in args:\n",
    "            result = result + i\n",
    "    elif choice == 'mul':\n",
    "        for i in args:\n",
    "            result = result * i\n",
    "    return result\n",
    "\n",
    "print (sum_mul('sum',1,2,3,5,6,7))\n",
    "print (sum_mul('mul',1,2,3,4,5))\n",
    "            "
   ]
  },
  {
   "cell_type": "code",
   "execution_count": 31,
   "metadata": {},
   "outputs": [
    {
     "name": "stdout",
     "output_type": "stream",
     "text": [
      "3\n",
      "2\n"
     ]
    }
   ],
   "source": [
    "def sum(a,b):\n",
    "    return a+b, a*b\n",
    "\n",
    "l,r = sum(1,2)\n",
    "print (l)\n",
    "print (r)"
   ]
  },
  {
   "cell_type": "code",
   "execution_count": 36,
   "metadata": {},
   "outputs": [
    {
     "name": "stdout",
     "output_type": "stream",
     "text": [
      "ka\n"
     ]
    }
   ],
   "source": [
    "def say(name):\n",
    "    if name == \"ko\":\n",
    "    # 아무말도 안해\n",
    "        return\n",
    "    print (name)\n",
    "    \n",
    "say(\"ko\")\n",
    "say(\"ka\")"
   ]
  },
  {
   "cell_type": "code",
   "execution_count": 46,
   "metadata": {},
   "outputs": [
    {
     "name": "stdout",
     "output_type": "stream",
     "text": [
      "나의 이름은 yun 나이는 26 입니다\n",
      "남자\n",
      "나의 이름은 hee 나이는 31 입니다\n",
      "여자\n"
     ]
    }
   ],
   "source": [
    "# 값을 주지 않아도 디폴트 값이 있는 함수\n",
    "def say_myself(name,old,man=True):\n",
    "    print (\"나의 이름은 %s 나이는 %s 입니다\" %(name,old))\n",
    "    if man:\n",
    "        print (\"남자\")\n",
    "    else:\n",
    "        print (\"여자\")\n",
    "        \n",
    "say_myself(\"yun\",26)\n",
    "say_myself(\"hee\",31,False)"
   ]
  },
  {
   "cell_type": "code",
   "execution_count": 48,
   "metadata": {},
   "outputs": [
    {
     "name": "stdout",
     "output_type": "stream",
     "text": [
      "1\n"
     ]
    }
   ],
   "source": [
    "# 출력 값은 1이 나온다\n",
    "# 전역변수와 지역변수의 차이\n",
    "# global a로 지역 내에서도 전역 변수로 사용 할 수 있으나 좋은 방법이 아니다\n",
    "# return을 쓰는 것을 추천\n",
    "a = 1\n",
    "def bb(a):\n",
    "    a = a+1\n",
    "bb(a)\n",
    "print (a)"
   ]
  },
  {
   "cell_type": "code",
   "execution_count": 50,
   "metadata": {},
   "outputs": [
    {
     "name": "stdout",
     "output_type": "stream",
     "text": [
      "F\n"
     ]
    }
   ],
   "source": [
    "# 점수를 입력 받아서 90점 이상이면 A, 80점 이상이면 B, 아니면 F를 출력하는 함수\n",
    "def score(num):\n",
    "    if num > 90:\n",
    "        print (\"A\")\n",
    "    elif num > 80:\n",
    "        print (\"B\")\n",
    "    else:\n",
    "        print (\"F\")\n",
    "        \n",
    "score(77)"
   ]
  },
  {
   "cell_type": "code",
   "execution_count": 58,
   "metadata": {},
   "outputs": [
    {
     "name": "stdout",
     "output_type": "stream",
     "text": [
      "77\n"
     ]
    }
   ],
   "source": [
    "# 숫자 리스트를 입력 받아서, 최대값을 출력\n",
    "def max_num(*args):\n",
    "    max = 0\n",
    "    for i in (args):\n",
    "        if i > max:\n",
    "            max = i\n",
    "    return max\n",
    "\n",
    "print (max_num(1,2,77,3,4,5))"
   ]
  },
  {
   "cell_type": "code",
   "execution_count": 60,
   "metadata": {},
   "outputs": [
    {
     "name": "stdout",
     "output_type": "stream",
     "text": [
      "3\n"
     ]
    }
   ],
   "source": [
    "def cal(choice,*args):\n",
    "    result = 0\n",
    "    if choice == 'sum':\n",
    "        for i in args:\n",
    "            result += i\n",
    "    elif choice == 'mul':\n",
    "        result = 1\n",
    "        for i in args:\n",
    "            result *= i\n",
    "    elif choice == 'min':\n",
    "        for i in args:\n",
    "            result -= i\n",
    "    elif choice == 'div':\n",
    "        result = 1\n",
    "        for i in args:\n",
    "            result /= i\n",
    "    return result\n",
    "\n",
    "print (cal('sum',1,1,1))"
   ]
  },
  {
   "cell_type": "code",
   "execution_count": 63,
   "metadata": {},
   "outputs": [
    {
     "name": "stdout",
     "output_type": "stream",
     "text": [
      "24681012141618\n",
      "71421283542495663"
     ]
    }
   ],
   "source": [
    "def 구구단(x):\n",
    "    for i in range(1,10):\n",
    "        print (x*i, end=\"\")\n",
    "구구단(2)\n",
    "print (\"\")\n",
    "구구단(7)"
   ]
  },
  {
   "cell_type": "code",
   "execution_count": 64,
   "metadata": {},
   "outputs": [
    {
     "name": "stdout",
     "output_type": "stream",
     "text": [
      "ABC\n",
      "A B C\n"
     ]
    }
   ],
   "source": [
    "print (\"A\"\"B\"\"C\") # print (\"A\"+\"B\"+\"C\")와 같다\n",
    "print (\"A\", \"B\", \"C\")"
   ]
  },
  {
   "cell_type": "code",
   "execution_count": 71,
   "metadata": {},
   "outputs": [
    {
     "name": "stdout",
     "output_type": "stream",
     "text": [
      "233168\n"
     ]
    }
   ],
   "source": [
    "# 1000미만의 자연수 중에 3,5의 합을 구하시오.\n",
    "def sum_3_5():\n",
    "    result = 0\n",
    "    for i in range(1,1000):\n",
    "        if i%3 == 0 or i%5 == 0:\n",
    "            result += i\n",
    "    return result\n",
    "\n",
    "print (sum_3_5())\n"
   ]
  },
  {
   "cell_type": "code",
   "execution_count": 77,
   "metadata": {},
   "outputs": [
    {
     "name": "stdout",
     "output_type": "stream",
     "text": [
      "(3, 4)\n"
     ]
    }
   ],
   "source": [
    "# 1차원 점이 주어 졌을 때 가장 거리가 짧은 쌍을 출력 하시오.\n",
    "def point(list):\n",
    "    result = [] \n",
    "    for i in range(len(list)-1):\n",
    "        result.append(list[i+1]-list[i])\n",
    "    index = result.index(min(result))\n",
    "    return (list[index],list[index+1])\n",
    "print (point([1,3,4,8,13,17,20]))"
   ]
  },
  {
   "cell_type": "code",
   "execution_count": 81,
   "metadata": {},
   "outputs": [
    {
     "name": "stdout",
     "output_type": "stream",
     "text": [
      "3\n",
      "4\n"
     ]
    }
   ],
   "source": [
    "# 1차원 점이 주어 졌을 때 가장 거리가 짧은 쌍을 출력 하시오.\n",
    "def point(list):\n",
    "    result = float('inf')\n",
    "    a = 0\n",
    "    b = 0\n",
    "    for i in list:\n",
    "        for j in list:\n",
    "            if i-j != 0:\n",
    "                if abs(i-j)<result:\n",
    "                    result = abs(i-j)\n",
    "                    a = i\n",
    "                    b = j\n",
    "    return a,b\n",
    "c,d = point([1,3,4,8,13,17,22])\n",
    "print (c)\n",
    "print (d)"
   ]
  },
  {
   "cell_type": "code",
   "execution_count": 84,
   "metadata": {},
   "outputs": [],
   "source": [
    "f = open(\"aa.txt\",\"w\")\n",
    "for i in range(10):\n",
    "    data = \"%d lines \\n\" %i\n",
    "    f.write(data)\n",
    "f.close()\n",
    "    "
   ]
  },
  {
   "cell_type": "code",
   "execution_count": 85,
   "metadata": {},
   "outputs": [
    {
     "name": "stdout",
     "output_type": "stream",
     "text": [
      "0 lines \n",
      "\n"
     ]
    }
   ],
   "source": [
    "f = open(\"aa.txt\",\"r\")\n",
    "result = f.readline()\n",
    "print (result)\n",
    "f.close()"
   ]
  },
  {
   "cell_type": "code",
   "execution_count": 86,
   "metadata": {},
   "outputs": [
    {
     "name": "stdout",
     "output_type": "stream",
     "text": [
      "0 lines \n",
      "\n",
      "1 lines \n",
      "\n",
      "2 lines \n",
      "\n",
      "3 lines \n",
      "\n",
      "4 lines \n",
      "\n",
      "5 lines \n",
      "\n",
      "6 lines \n",
      "\n",
      "7 lines \n",
      "\n",
      "8 lines \n",
      "\n",
      "9 lines \n",
      "\n"
     ]
    }
   ],
   "source": [
    "f = open(\"aa.txt\",\"r\")\n",
    "lines = f.readlines()\n",
    "for line in lines:\n",
    "    print (line)\n",
    "f.close()"
   ]
  },
  {
   "cell_type": "code",
   "execution_count": 87,
   "metadata": {},
   "outputs": [
    {
     "name": "stdout",
     "output_type": "stream",
     "text": [
      "0 lines \n",
      "1 lines \n",
      "2 lines \n",
      "3 lines \n",
      "4 lines \n",
      "5 lines \n",
      "6 lines \n",
      "7 lines \n",
      "8 lines \n",
      "9 lines \n",
      "\n"
     ]
    }
   ],
   "source": [
    "f = open(\"aa.txt\", \"r\")\n",
    "data = f.read() # 파일 전체 문자열을 읽는 메소드\n",
    "print (data)\n",
    "f.close()"
   ]
  },
  {
   "cell_type": "code",
   "execution_count": 89,
   "metadata": {
    "collapsed": true
   },
   "outputs": [],
   "source": [
    "f = open(\"aa.txt\",\"a\")\n",
    "for i in range(10):\n",
    "    data = \"%d lines \\n\" %(i+10)\n",
    "    f.write(data)\n",
    "f.close()"
   ]
  },
  {
   "cell_type": "code",
   "execution_count": 90,
   "metadata": {
    "collapsed": true
   },
   "outputs": [],
   "source": [
    "with open(\"aa.txt\",\"a\") as f:\n",
    "    for i in range(10):\n",
    "        data = \"%d lines \\n\" %(i+10)\n",
    "        f.write(data)"
   ]
  },
  {
   "cell_type": "code",
   "execution_count": 94,
   "metadata": {},
   "outputs": [
    {
     "name": "stdout",
     "output_type": "stream",
     "text": [
      "이름 : hee\n",
      "나이 : 31\n"
     ]
    }
   ],
   "source": [
    "# profile.txt 파일을 만들어서, 이름, 나이를 입력 받아서 쓰는 프로그램\n",
    "# file, lego, input()\n",
    "name = input(\"이름 : \")\n",
    "age = int(input(\"나이 : \" ))\n",
    "with open(\"profile.txt\", \"a\") as f:\n",
    "        data = \"name : %s, age : %i \\n\" %(name,age)\n",
    "        f.write(data)"
   ]
  },
  {
   "cell_type": "code",
   "execution_count": 102,
   "metadata": {},
   "outputs": [
    {
     "name": "stdout",
     "output_type": "stream",
     "text": [
      "물건 가격을 입력하세요 구분자 ,a,1\n",
      "물건 가격을 입력하세요 구분자 ,b,2\n",
      "물건 가격을 입력하세요 구분자 ,c,3\n",
      "물건 가격을 입력하세요 구분자 ,d,4\n",
      "물건 가격을 입력하세요 구분자 ,e,5\n",
      "45\n"
     ]
    }
   ],
   "source": [
    "# 물건, 가격 5개를 입력 받아서 product.txt에 저장하고\n",
    "# 파일 읽어와서, 물건 가격 총 합 출력하는 프로그램\n",
    "\n",
    "with open(\"product.txt\", \"a\") as f:\n",
    "    for i in range(5):\n",
    "        data = input(\"물건 가격을 입력하세요 구분자 ,\")\n",
    "        f.write(data+\"\\n\")\n",
    "    \n",
    "with open(\"product.txt\", \"r\") as f:\n",
    "    sum = 0\n",
    "    lines = f.readlines()\n",
    "    for line in lines:\n",
    "        sum = sum + int(line.split(\",\")[1])\n",
    "print(sum)"
   ]
  },
  {
   "cell_type": "code",
   "execution_count": 107,
   "metadata": {},
   "outputs": [],
   "source": [
    "f = open(\"gugu.txt\",\"w\")\n",
    "for i in range(2,10):\n",
    "    for j in range(1,10):\n",
    "        data = str(i*j)+\"\"\n",
    "        f.write(data)\n",
    "    f.write(\"\\n\")\n",
    "f.close()"
   ]
  },
  {
   "cell_type": "code",
   "execution_count": null,
   "metadata": {
    "collapsed": true
   },
   "outputs": [],
   "source": []
  }
 ],
 "metadata": {
  "kernelspec": {
   "display_name": "Python 3",
   "language": "python",
   "name": "python3"
  },
  "language_info": {
   "codemirror_mode": {
    "name": "ipython",
    "version": 3
   },
   "file_extension": ".py",
   "mimetype": "text/x-python",
   "name": "python",
   "nbconvert_exporter": "python",
   "pygments_lexer": "ipython3",
   "version": "3.6.3"
  }
 },
 "nbformat": 4,
 "nbformat_minor": 2
}
