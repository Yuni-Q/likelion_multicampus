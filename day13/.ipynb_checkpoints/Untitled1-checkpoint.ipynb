{
 "cells": [
  {
   "cell_type": "code",
   "execution_count": 4,
   "metadata": {},
   "outputs": [
    {
     "name": "stdout",
     "output_type": "stream",
     "text": [
      "3\n",
      "7\n",
      "3\n",
      "8\n"
     ]
    }
   ],
   "source": [
    "# Class, Module\n",
    "# 자바에서 Class : 재사용성\n",
    "# a(객체, 클래스의 인스턴스) = Class\n",
    "class Calculator:\n",
    "    def __init__(self):\n",
    "        self.result = 0\n",
    "    def add(self, num):\n",
    "        self.result = self.result + num\n",
    "        return self.result\n",
    "    \n",
    "a = Calculator()\n",
    "b = Calculator()\n",
    "print (a.add(3))\n",
    "print (a.add(4))\n",
    "\n",
    "print (b.add(3))\n",
    "print (b.add(5))"
   ]
  },
  {
   "cell_type": "code",
   "execution_count": 6,
   "metadata": {},
   "outputs": [
    {
     "name": "stdout",
     "output_type": "stream",
     "text": [
      "hi\n",
      "hi\n"
     ]
    }
   ],
   "source": [
    "class Service:\n",
    "    secret = \"Hello\"\n",
    "\n",
    "Service.secret = \"hi\" # 이것만 바꾸면 a,b 값 둘다 바뀜\n",
    "    \n",
    "a = Service()\n",
    "print (a.secret)\n",
    "\n",
    "b = Service()\n",
    "print (b.secret)"
   ]
  },
  {
   "cell_type": "code",
   "execution_count": 15,
   "metadata": {},
   "outputs": [
    {
     "name": "stdout",
     "output_type": "stream",
     "text": [
      "홍길동님  1 + 1 = 2 입니다\n"
     ]
    }
   ],
   "source": [
    "class Service:\n",
    "    secret = \"Hello\"\n",
    "    def __init__(self):\n",
    "        pass\n",
    "    def setName(self, name):\n",
    "        self.name = name\n",
    "        \n",
    "    def add(self,num, num2):\n",
    "        result = num + num2\n",
    "        print (\"%s님  %s + %s = %s 입니다\" %(self.name,num,num2,result))\n",
    "        \n",
    "pey = Service()\n",
    "pey.setName(\"홍길동\")\n",
    "pey.add(1,1)"
   ]
  },
  {
   "cell_type": "code",
   "execution_count": 21,
   "metadata": {},
   "outputs": [
    {
     "name": "stdout",
     "output_type": "stream",
     "text": [
      "Yun님  3 + 3 = 6 입니다\n",
      "Yun님  3 * 3 = 9 입니다\n",
      "Yun님  3 - 3 = 0 입니다\n",
      "Yun님  3 / 3 = 1.0 입니다\n"
     ]
    }
   ],
   "source": [
    "class Fourcal:\n",
    "    secret = \"Hello\"\n",
    "    def __init__(self, name):\n",
    "        self.name = name\n",
    "    def add(self,num, num2):\n",
    "        result = num + num2\n",
    "        print (\"%s님  %s + %s = %s 입니다\" %(self.name,num,num2,result))\n",
    "    def mul(self,num,num2):\n",
    "        result = num * num2\n",
    "        print (\"%s님  %s * %s = %s 입니다\" %(self.name,num,num2,result))\n",
    "    def min(self,num,num2):\n",
    "        result = num - num2\n",
    "        print (\"%s님  %s - %s = %s 입니다\" %(self.name,num,num2,result))\n",
    "    def div(self,num,num2):\n",
    "        result = num / num2\n",
    "        print (\"%s님  %s / %s = %s 입니다\" %(self.name,num,num2,result))\n",
    "        \n",
    "pey = Fourcal(\"Yun\")\n",
    "pey.add(3,3)\n",
    "pey.mul(3,3)\n",
    "pey.min(3,3)\n",
    "pey.div(3,3)\n",
    "    "
   ]
  },
  {
   "cell_type": "code",
   "execution_count": 38,
   "metadata": {},
   "outputs": [
    {
     "name": "stdout",
     "output_type": "stream",
     "text": [
      "박호우, 러시아 여행을 가다\n"
     ]
    }
   ],
   "source": [
    "class HousePark:\n",
    "    lastname = \"박\"\n",
    "    def __init__(self,name):\n",
    "        self.fullname = self.lastname + name\n",
    "#     def setname(self, name):\n",
    "#         self.fullname = self.lastname + name\n",
    "    def __add__(self, other):\n",
    "        print (\"%s, %s 결혼함\" %(self.fullname, other.fullname))\n",
    "    def travel(self,where):\n",
    "        print (\"%s, %s 여행을 가다\" %(self.fullname, where))\n",
    "        \n",
    "pey = HousePark(\"호우\")\n",
    "#pey.setname(\"호우\")\n",
    "pey.travel(\"러시아\")"
   ]
  },
  {
   "cell_type": "code",
   "execution_count": 39,
   "metadata": {},
   "outputs": [
    {
     "name": "stdout",
     "output_type": "stream",
     "text": [
      "김하야 미얀마 여행을 5에 가다.\n",
      "박호우, 김하야 결혼함\n"
     ]
    }
   ],
   "source": [
    "class HouseKim(HousePark):\n",
    "    lastname = \"김\"\n",
    "    #오버라이딩\n",
    "    def travel(self,where,day):\n",
    "        print (\"%s %s 여행을 %s에 가다.\" %(self.fullname,where, day))\n",
    "    \n",
    "pi = HouseKim(\"하야\")\n",
    "pi.travel(\"미얀마\",5)\n",
    "pey + pi"
   ]
  },
  {
   "cell_type": "code",
   "execution_count": null,
   "metadata": {
    "collapsed": true
   },
   "outputs": [],
   "source": [
    "class Test:\n",
    "    def count():\n",
    "        return\n",
    "\n",
    "pey = Test()\n",
    "print (pey.count(\"My name is Hou\"))"
   ]
  }
 ],
 "metadata": {
  "kernelspec": {
   "display_name": "Python 3",
   "language": "python",
   "name": "python3"
  },
  "language_info": {
   "codemirror_mode": {
    "name": "ipython",
    "version": 3
   },
   "file_extension": ".py",
   "mimetype": "text/x-python",
   "name": "python",
   "nbconvert_exporter": "python",
   "pygments_lexer": "ipython3",
   "version": "3.6.3"
  }
 },
 "nbformat": 4,
 "nbformat_minor": 2
}
