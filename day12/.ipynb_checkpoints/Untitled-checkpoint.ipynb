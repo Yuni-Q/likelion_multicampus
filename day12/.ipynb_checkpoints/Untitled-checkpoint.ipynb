{
 "cells": [
  {
   "cell_type": "code",
   "execution_count": 1,
   "metadata": {},
   "outputs": [
    {
     "name": "stdout",
     "output_type": "stream",
     "text": [
      "hello world\n"
     ]
    }
   ],
   "source": [
    "print (\"hello world\")"
   ]
  },
  {
   "cell_type": "code",
   "execution_count": 1,
   "metadata": {},
   "outputs": [
    {
     "name": "stdout",
     "output_type": "stream",
     "text": [
      "AaBb\n"
     ]
    }
   ],
   "source": [
    "head = \"Aa\"\n",
    "tail = \"Bb\"\n",
    "print (head+tail)"
   ]
  },
  {
   "cell_type": "code",
   "execution_count": 2,
   "metadata": {},
   "outputs": [
    {
     "name": "stdout",
     "output_type": "stream",
     "text": [
      "==============================\n"
     ]
    }
   ],
   "source": [
    "print(\"=\"*30)"
   ]
  },
  {
   "cell_type": "code",
   "execution_count": 11,
   "metadata": {},
   "outputs": [
    {
     "name": "stdout",
     "output_type": "stream",
     "text": [
      "n\n",
      "h\n",
      "my n\n",
      "yunhee\n",
      "yunhee\n"
     ]
    }
   ],
   "source": [
    "#슬라이싱, 인덱스\n",
    "a = \"my name is yunhee\"\n",
    "print (a[3])\n",
    "print (a[-3])\n",
    "print (a[0:4])\n",
    "print (a[11:])\n",
    "print (a[-6:])"
   ]
  },
  {
   "cell_type": "code",
   "execution_count": 22,
   "metadata": {},
   "outputs": [
    {
     "name": "stdout",
     "output_type": "stream",
     "text": [
      "블라 Apple 블라\n",
      "블라 100 블라\n",
      "블라 Apple 100 블라\n",
      "95%\n",
      "        hi\n",
      "hello      hi\n",
      "3.1458\n",
      "    3.1416\n"
     ]
    }
   ],
   "source": [
    "s = \"Apple\"\n",
    "num = 100\n",
    "print (\"블라 %s 블라\" %s)\n",
    "print (\"블라 %i 블라\" %num)\n",
    "print (\"블라 %s %i 블라\" %(s,num))\n",
    "print (\"%d%%\" %95)\n",
    "print (\"%10s\" %\"hi\")\n",
    "print (\"%-10s hi\" % \"hello\")\n",
    "print (\"%0.4f\" %3.1458124156)\n",
    "print (\"%10.4f\" %3.1415603503)\n"
   ]
  },
  {
   "cell_type": "code",
   "execution_count": 25,
   "metadata": {},
   "outputs": [
    {
     "data": {
      "text/plain": [
       "2"
      ]
     },
     "execution_count": 25,
     "metadata": {},
     "output_type": "execute_result"
    }
   ],
   "source": [
    "s = \"hello\"\n",
    "s.count(\"l\")"
   ]
  },
  {
   "cell_type": "code",
   "execution_count": 26,
   "metadata": {},
   "outputs": [
    {
     "data": {
      "text/plain": [
       "1"
      ]
     },
     "execution_count": 26,
     "metadata": {},
     "output_type": "execute_result"
    }
   ],
   "source": [
    "s = \"hello\"\n",
    "s.index(\"e\")"
   ]
  },
  {
   "cell_type": "code",
   "execution_count": 27,
   "metadata": {},
   "outputs": [
    {
     "data": {
      "text/plain": [
       "'a.b.c.d.e'"
      ]
     },
     "execution_count": 27,
     "metadata": {},
     "output_type": "execute_result"
    }
   ],
   "source": [
    "#빈출\n",
    "a =\".\"\n",
    "a.join(\"abcde\")"
   ]
  },
  {
   "cell_type": "code",
   "execution_count": 29,
   "metadata": {},
   "outputs": [
    {
     "data": {
      "text/plain": [
       "'hi'"
      ]
     },
     "execution_count": 29,
     "metadata": {},
     "output_type": "execute_result"
    }
   ],
   "source": [
    "a = \"HI\"\n",
    "a.lower()"
   ]
  },
  {
   "cell_type": "code",
   "execution_count": 31,
   "metadata": {},
   "outputs": [
    {
     "name": "stdout",
     "output_type": "stream",
     "text": [
      "hi\n",
      "hi\n"
     ]
    }
   ],
   "source": [
    "a = '  hi  '\n",
    "print (a.lstrip().rstrip())\n",
    "print (a.strip())"
   ]
  },
  {
   "cell_type": "code",
   "execution_count": 33,
   "metadata": {},
   "outputs": [
    {
     "name": "stdout",
     "output_type": "stream",
     "text": [
      "melon grape\n",
      "['apple', 'grape']\n"
     ]
    }
   ],
   "source": [
    "a = 'apple grape'\n",
    "print (a.replace(\"apple\",\"melon\"))\n",
    "print (a.split())"
   ]
  },
  {
   "cell_type": "code",
   "execution_count": 34,
   "metadata": {},
   "outputs": [
    {
     "name": "stdout",
     "output_type": "stream",
     "text": [
      "['2016', '12', '31', 'Rainy']\n"
     ]
    }
   ],
   "source": [
    "b =\"2016:12:31:Rainy\"\n",
    "print (b.split(\":\"))"
   ]
  },
  {
   "cell_type": "code",
   "execution_count": 35,
   "metadata": {},
   "outputs": [
    {
     "name": "stdout",
     "output_type": "stream",
     "text": [
      "176\n"
     ]
    }
   ],
   "source": [
    "print (len(a)*len(b))"
   ]
  },
  {
   "cell_type": "code",
   "execution_count": 42,
   "metadata": {},
   "outputs": [
    {
     "name": "stdout",
     "output_type": "stream",
     "text": [
      "블라블라 376 블라\n",
      "[1, 2, 3]\n",
      "2\n",
      "3\n",
      "[3, 4]\n",
      "4\n"
     ]
    }
   ],
   "source": [
    "type(\"pithon\")\n",
    "type(4.0)\n",
    "\n",
    "3**4\n",
    "7%3\n",
    "7//3\n",
    "7/3\n",
    "\n",
    "print (\"블라블라\",47*8,\"블라\")\n",
    "\n",
    "a = [1,2,3]\n",
    "print (a)\n",
    "print (a[1])\n",
    "print (a[-1])\n",
    "\n",
    "a = [1,2,[3,4]]\n",
    "print (a[-1])\n",
    "print (a[-1][-1])"
   ]
  },
  {
   "cell_type": "code",
   "execution_count": 44,
   "metadata": {},
   "outputs": [
    {
     "name": "stdout",
     "output_type": "stream",
     "text": [
      "grope\n"
     ]
    },
    {
     "data": {
      "text/plain": [
       "['spring', ['summer', ['apple', 'grope', 'melon'], 'fall'], 'winter']"
      ]
     },
     "execution_count": 44,
     "metadata": {},
     "output_type": "execute_result"
    }
   ],
   "source": [
    "season = ['spring', ['summer',['apple','grope','melon'],'fall'],'winter']\n",
    "print (season[1][1][1])\n",
    "# rank shope, axis\n",
    "#rank : 배열 몇 단 ? / shope[2,2][3,1]// axis\n",
    "season[:]"
   ]
  },
  {
   "cell_type": "code",
   "execution_count": 45,
   "metadata": {},
   "outputs": [
    {
     "name": "stdout",
     "output_type": "stream",
     "text": [
      "응 있어\n"
     ]
    }
   ],
   "source": [
    "a = [1,2,3,4,5,8]\n",
    "\n",
    "if 4 in a:\n",
    "    print (\"응 있어\")"
   ]
  },
  {
   "cell_type": "code",
   "execution_count": 51,
   "metadata": {},
   "outputs": [
    {
     "name": "stdout",
     "output_type": "stream",
     "text": [
      "[77, 77, 77, 77, 77, 77, 8, 5, 4, 3, 2, 1]\n",
      "6\n"
     ]
    }
   ],
   "source": [
    "a.append(77)\n",
    "a.sort()\n",
    "a.reverse()\n",
    "print (a)\n",
    "a.index(8)\n",
    "a.remove(3)\n",
    "a.pop\n",
    "a.count(77)\n",
    "a.extend([999,9999])"
   ]
  },
  {
   "cell_type": "code",
   "execution_count": 52,
   "metadata": {},
   "outputs": [
    {
     "name": "stdout",
     "output_type": "stream",
     "text": [
      "('h', 'e', 'l', 'l', 'o')\n"
     ]
    }
   ],
   "source": [
    "# Array 관련 함수들\n",
    "[1,2,3,4]\n",
    "# tuple 관련 함수들\n",
    "c = (1,2,3,4)\n",
    "\n",
    "s = \"hello\"\n",
    "t = tuple(s)\n",
    "print (t)"
   ]
  },
  {
   "cell_type": "code",
   "execution_count": 57,
   "metadata": {},
   "outputs": [
    {
     "name": "stdout",
     "output_type": "stream",
     "text": [
      "value1\n"
     ]
    }
   ],
   "source": [
    "dic = {'key1':'value1','key2':'value2','key3':'value3'}\n",
    "dic['key4'] = 'value' # 추가\n",
    "del dic['key2'] #삭제\n",
    "print (dic['key1'])\n",
    "dic.key() # 키 값 가져오기\n",
    "dic.value # 값 가져오기\n",
    "dic.item()\n",
    "dic.clear() # 딕셔너리 초기화\n",
    "\n",
    "dic.get('key1')\n",
    "dic.get('ket1', '없습니다.') # 2번째 인자는 없을 때 출력 할 값\n",
    "dic['key1'] "
   ]
  },
  {
   "cell_type": "code",
   "execution_count": 59,
   "metadata": {},
   "outputs": [
    {
     "name": "stdout",
     "output_type": "stream",
     "text": [
      "9000\n"
     ]
    }
   ],
   "source": [
    "a = {\"커피\":1000,\"빵\":2000,\"고구마\":2500,\"김\":3000}\n",
    "\n",
    "# 새로운 메뉴 오징어가 3천원에 추가 되고\n",
    "a[\"오징어\"] = 3000\n",
    "# 고객이 오징어 2개랑 김 1개 주문 했어요\n",
    "# 전체 가격 총ㅎ바을 알려주는 거예요.\n",
    "val = a[\"오징어\"]*2 + a[\"김\"]\n",
    "print (val)"
   ]
  },
  {
   "cell_type": "code",
   "execution_count": 66,
   "metadata": {},
   "outputs": [
    {
     "name": "stdout",
     "output_type": "stream",
     "text": [
      "{1, 3, 5, 6}\n",
      "{1, 3, 5, 6}\n",
      "4\n",
      "{1, 3, 5, 6, 8, 9, 19}\n",
      "{1, 3, 5, 6, 8, 9, 19}\n",
      "7\n",
      "{9}\n",
      "{8, 19}\n",
      "{9}\n",
      "{1, 66, 3, 5, 6, 999, 9, 88}\n"
     ]
    }
   ],
   "source": [
    "# Set 집합 - 중복 X 손서 X (인덱싱, 슬라이싱 X)\n",
    "list = [1,1,1,5,9,6,3]\n",
    "a = set(list)\n",
    "\n",
    "list2 = [1,6,8,5,19,6,3]\n",
    "b = set(list2)\n",
    "\n",
    "print (a&b)\n",
    "print (a.intersection(b))\n",
    "print (len(a&b))\n",
    "\n",
    "print (a|b)\n",
    "print (a.union(b))\n",
    "print (len(a|b))\n",
    "\n",
    "print (a-b)\n",
    "print (b-a)\n",
    "print (a.difference(b))\n",
    "\n",
    "a.add(999)\n",
    "a.update([66,77,88]) # set update\n",
    "a.remove(77) #set 삭제\n",
    "print (a)"
   ]
  },
  {
   "cell_type": "code",
   "execution_count": 73,
   "metadata": {},
   "outputs": [
    {
     "name": "stdout",
     "output_type": "stream",
     "text": [
      "B\n",
      "4\n",
      "3\n",
      "2\n",
      "1\n",
      "True\n",
      "3 3 4 4 5 5\n",
      "[1, 5, 3]\n",
      "[1, 2, 3]\n",
      "4\n"
     ]
    }
   ],
   "source": [
    "if []:\n",
    "    print (\"A\")\n",
    "else:\n",
    "    print (\"B\")\n",
    "    \n",
    "a = [1,2,3,4]\n",
    "while a:\n",
    "    print (a.pop())\n",
    "    \n",
    "a = 3\n",
    "b = 3\n",
    "print (a is b)\n",
    "\n",
    "a,b = (3,3)\n",
    "c,d = [4,4]\n",
    "e=f=5\n",
    "print (a,b,c,d,e,f)\n",
    "\n",
    "a = [1,2,3]\n",
    "b = a # 같은 배열 쳐다보고 있음\n",
    "c = a[:] # 다른 배열 쳐다보고 있음\n",
    "a[1] = 5\n",
    "print (b)\n",
    "print (c)\n",
    "print (d)"
   ]
  },
  {
   "cell_type": "code",
   "execution_count": 74,
   "metadata": {},
   "outputs": [
    {
     "name": "stdout",
     "output_type": "stream",
     "text": [
      "a\n"
     ]
    }
   ],
   "source": [
    "if 1:\n",
    "    print (\"a\")\n",
    "else:\n",
    "    print (\"b\")"
   ]
  },
  {
   "cell_type": "code",
   "execution_count": 77,
   "metadata": {},
   "outputs": [
    {
     "name": "stdout",
     "output_type": "stream",
     "text": [
      "이름을 입력해 주세요.올\n",
      "올\n"
     ]
    }
   ],
   "source": [
    "if 1 in [1,2,3,4]:\n",
    "    pass # 아무것도 안함\n",
    "else:\n",
    "    print (\"B\")\n",
    "    \n",
    "# 입력 받기\n",
    "a = input(\"이름을 입력해 주세요.\")\n",
    "print (a)"
   ]
  },
  {
   "cell_type": "code",
   "execution_count": 91,
   "metadata": {},
   "outputs": [
    {
     "name": "stdout",
     "output_type": "stream",
     "text": [
      "나이를 입력해 주세요 : 22\n",
      "child\n",
      "연필의 갯수를 입력해 주세요 : 1\n",
      "펜의 갯수를 입력해 주세요 : 1\n",
      "3000\n",
      "이름과 성적을 '|' 넣어 입력하시오 : 덕화|60\n",
      "F\n"
     ]
    }
   ],
   "source": [
    "# 1. 사용자 나이를 입력 받아서 나이가 30 이쌍이면'adult' 미만이면 child를 출력하시오\n",
    "age = input(\"나이를 입력해 주세요 : \")\n",
    "age = int(age)\n",
    "if (age >= 30):\n",
    "    print (\"adult\")\n",
    "else:\n",
    "    print (\"child\")\n",
    "    \n",
    "# 2. 연필 : 1000원, 펜 : 2000원\n",
    "## 만원이상 구매시 10% 할인해줌\n",
    "## 구매하고자 하는 연필 수, 펜 수 입력 받아서 최종 금액 출력\n",
    "pencil = input(\"연필의 갯수를 입력해 주세요 : \")\n",
    "pen = input(\"펜의 갯수를 입력해 주세요 : \")\n",
    "val = int(pencil)*1000 + int(pen)*2000\n",
    "if val >= 10000:\n",
    "    val = val-(val/10)\n",
    "print (val)\n",
    "# 3. 성적이 90점 이상이면 A, 80점 이사ㅇ이면 B, 70점 이상이면 C\n",
    "## 나머지는 F\n",
    "## - 성적을 입력 받아서 학점을 알려주시오\n",
    "## - 입력값은 \"이름|성적\"으로 입력 받음 ex. \"민종현|89 출력 : B\n",
    "grade = input(\"이름과 성적을 '|' 넣어 입력하시오 : \")\n",
    "grade = grade.split(\"|\")\n",
    "grade = int(grade[1])\n",
    "if grade >= 90:\n",
    "    print (\"A\")\n",
    "elif grade >= 80:\n",
    "    print (\"B\")\n",
    "elif grade >= 70:\n",
    "    print (\"C\")\n",
    "else:\n",
    "    print (\"F\")"
   ]
  },
  {
   "cell_type": "code",
   "execution_count": 103,
   "metadata": {},
   "outputs": [
    {
     "name": "stdout",
     "output_type": "stream",
     "text": [
      "값을 입력하시오 : 33333\n",
      "33333\n"
     ]
    }
   ],
   "source": [
    "# 1. x가 1자리 수인지 2자리 수인지 3자리 수인지 체크하는 프로그램 작성\n",
    "val = input(\"값을 입력하시오 : \" )\n",
    "if len(val) >= 2:\n",
    "    print (val)\n",
    "else:\n",
    "    pass"
   ]
  },
  {
   "cell_type": "code",
   "execution_count": 104,
   "metadata": {},
   "outputs": [
    {
     "name": "stdout",
     "output_type": "stream",
     "text": [
      "hello\n",
      "hello\n",
      "hello\n",
      "hello\n",
      "hello\n"
     ]
    }
   ],
   "source": [
    "count = 1\n",
    "while count<=5:\n",
    "    print (\"hello\")\n",
    "    count+=1"
   ]
  },
  {
   "cell_type": "code",
   "execution_count": 106,
   "metadata": {},
   "outputs": [
    {
     "name": "stdout",
     "output_type": "stream",
     "text": [
      "5050\n"
     ]
    }
   ],
   "source": [
    "count = 1\n",
    "sum = 0\n",
    "while count <= 100:\n",
    "    sum = count + sum\n",
    "    count += 1\n",
    "print (sum)"
   ]
  },
  {
   "cell_type": "code",
   "execution_count": 107,
   "metadata": {},
   "outputs": [
    {
     "name": "stdout",
     "output_type": "stream",
     "text": [
      "A\n",
      "B\n",
      "C\n",
      "D\n"
     ]
    }
   ],
   "source": [
    "a = ['A','B','C','D']\n",
    "index = 0\n",
    "\n",
    "while index < len(a):\n",
    "    print (a[index])\n",
    "    index += 1"
   ]
  },
  {
   "cell_type": "code",
   "execution_count": 109,
   "metadata": {},
   "outputs": [
    {
     "name": "stdout",
     "output_type": "stream",
     "text": [
      "['P', 'F', 'P', 'F', 'F']\n"
     ]
    }
   ],
   "source": [
    "input = [90,80,85,75,60]\n",
    "output = []\n",
    "for kk in input:\n",
    "    if kk <82:\n",
    "        output.append(\"F\")\n",
    "    else:\n",
    "        output.append(\"P\")\n",
    "print (output)"
   ]
  },
  {
   "cell_type": "code",
   "execution_count": null,
   "metadata": {},
   "outputs": [],
   "source": []
  },
  {
   "cell_type": "code",
   "execution_count": null,
   "metadata": {
    "collapsed": true
   },
   "outputs": [],
   "source": []
  }
 ],
 "metadata": {
  "kernelspec": {
   "display_name": "Python 3",
   "language": "python",
   "name": "python3"
  },
  "language_info": {
   "codemirror_mode": {
    "name": "ipython",
    "version": 3
   },
   "file_extension": ".py",
   "mimetype": "text/x-python",
   "name": "python",
   "nbconvert_exporter": "python",
   "pygments_lexer": "ipython3",
   "version": "3.6.3"
  }
 },
 "nbformat": 4,
 "nbformat_minor": 2
}
